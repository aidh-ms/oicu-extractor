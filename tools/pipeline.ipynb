{
 "cells": [
  {
   "cell_type": "code",
   "execution_count": 6,
   "metadata": {},
   "outputs": [
    {
     "name": "stdout",
     "output_type": "stream",
     "text": [
      "The autoreload extension is already loaded. To reload it, use:\n",
      "  %reload_ext autoreload\n"
     ]
    },
    {
     "ename": "ModuleNotFoundError",
     "evalue": "No module named 'icu_pipeline'",
     "output_type": "error",
     "traceback": [
      "\u001b[0;31m---------------------------------------------------------------------------\u001b[0m",
      "\u001b[0;31mModuleNotFoundError\u001b[0m                       Traceback (most recent call last)",
      "Cell \u001b[0;32mIn[6], line 9\u001b[0m\n\u001b[1;32m      5\u001b[0m sys\u001b[38;5;241m.\u001b[39mpath\u001b[38;5;241m.\u001b[39mappend(os\u001b[38;5;241m.\u001b[39mpath\u001b[38;5;241m.\u001b[39mabspath(os\u001b[38;5;241m.\u001b[39mpath\u001b[38;5;241m.\u001b[39mjoin(\u001b[38;5;124m\"\u001b[39m\u001b[38;5;124m.\u001b[39m\u001b[38;5;124m\"\u001b[39m)))\n\u001b[1;32m      7\u001b[0m \u001b[38;5;28;01mimport\u001b[39;00m \u001b[38;5;21;01mpandas\u001b[39;00m \u001b[38;5;28;01mas\u001b[39;00m \u001b[38;5;21;01mpd\u001b[39;00m\n\u001b[0;32m----> 9\u001b[0m \u001b[38;5;28;01mfrom\u001b[39;00m \u001b[38;5;21;01micu_pipeline\u001b[39;00m\u001b[38;5;21;01m.\u001b[39;00m\u001b[38;5;21;01mpipeline\u001b[39;00m \u001b[38;5;28;01mimport\u001b[39;00m (\n\u001b[1;32m     10\u001b[0m     Pipeline,\n\u001b[1;32m     11\u001b[0m     DataSource,\n\u001b[1;32m     12\u001b[0m     SourceConfig,\n\u001b[1;32m     13\u001b[0m )\n\u001b[1;32m     15\u001b[0m PG_PASS \u001b[38;5;241m=\u001b[39m os\u001b[38;5;241m.\u001b[39mgetenv(\u001b[38;5;124m\"\u001b[39m\u001b[38;5;124mPG_PASS\u001b[39m\u001b[38;5;124m\"\u001b[39m)\n\u001b[1;32m     16\u001b[0m PG_USER \u001b[38;5;241m=\u001b[39m os\u001b[38;5;241m.\u001b[39mgetenv(\u001b[38;5;124m\"\u001b[39m\u001b[38;5;124mPG_USER\u001b[39m\u001b[38;5;124m\"\u001b[39m)\n",
      "\u001b[0;31mModuleNotFoundError\u001b[0m: No module named 'icu_pipeline'"
     ]
    }
   ],
   "source": [
    "%load_ext autoreload\n",
    "%autoreload 2\n",
    "import os\n",
    "import sys\n",
    "sys.path.append(os.path.abspath(os.path.join(\".\")))\n",
    "\n",
    "import pandas as pd\n",
    "\n",
    "from icu_pipeline.pipeline import (\n",
    "    Pipeline,\n",
    "    DataSource,\n",
    "    SourceConfig,\n",
    ")\n",
    "\n",
    "PG_PASS = os.getenv(\"PG_PASS\")\n",
    "PG_USER = os.getenv(\"PG_USER\")\n",
    "PG_HOST = os.getenv(\"PG_HOST\")\n",
    "PG_PORT = os.getenv(\"PG_PORT\")\n",
    "\n",
    "MIMIC_DB = os.getenv(\"PG_MIMIC_NAME\")\n",
    "EICU_DB = os.getenv(\"PG_EICU_NAME\")\n",
    "AMDS_DB = os.getenv(\"PG_AMDS_NAME\")\n",
    "SIC_DB = os.getenv(\"PG_SIC_NAME\")\n",
    "HIRID_DB = os.getenv(\"PG_HIRID_NAME\")"
   ]
  },
  {
   "cell_type": "code",
   "execution_count": 2,
   "metadata": {},
   "outputs": [
    {
     "ename": "NameError",
     "evalue": "name 'SourceConfig' is not defined",
     "output_type": "error",
     "traceback": [
      "\u001b[0;31m---------------------------------------------------------------------------\u001b[0m",
      "\u001b[0;31mNameError\u001b[0m                                 Traceback (most recent call last)",
      "Cell \u001b[0;32mIn[2], line 1\u001b[0m\n\u001b[0;32m----> 1\u001b[0m mimic_config \u001b[38;5;241m=\u001b[39m \u001b[43mSourceConfig\u001b[49m(\n\u001b[1;32m      2\u001b[0m     \u001b[38;5;124mf\u001b[39m\u001b[38;5;124m\"\u001b[39m\u001b[38;5;124mpostgresql+psycopg://\u001b[39m\u001b[38;5;132;01m{\u001b[39;00mPG_USER\u001b[38;5;132;01m}\u001b[39;00m\u001b[38;5;124m:\u001b[39m\u001b[38;5;132;01m{\u001b[39;00mPG_PASS\u001b[38;5;132;01m}\u001b[39;00m\u001b[38;5;124m@\u001b[39m\u001b[38;5;132;01m{\u001b[39;00mPG_HOST\u001b[38;5;132;01m}\u001b[39;00m\u001b[38;5;124m/\u001b[39m\u001b[38;5;132;01m{\u001b[39;00mMIMIC_DB\u001b[38;5;132;01m}\u001b[39;00m\u001b[38;5;124m\"\u001b[39m,\n\u001b[1;32m      3\u001b[0m     limit\u001b[38;5;241m=\u001b[39m\u001b[38;5;241m10\u001b[39m,\n\u001b[1;32m      4\u001b[0m     chunksize\u001b[38;5;241m=\u001b[39m\u001b[38;5;241m10\u001b[39m\n\u001b[1;32m      5\u001b[0m )\n\u001b[1;32m      6\u001b[0m eicu_config \u001b[38;5;241m=\u001b[39m SourceConfig(\n\u001b[1;32m      7\u001b[0m     \u001b[38;5;124mf\u001b[39m\u001b[38;5;124m\"\u001b[39m\u001b[38;5;124mpostgresql+psycopg://\u001b[39m\u001b[38;5;132;01m{\u001b[39;00mPG_USER\u001b[38;5;132;01m}\u001b[39;00m\u001b[38;5;124m:\u001b[39m\u001b[38;5;132;01m{\u001b[39;00mPG_PASS\u001b[38;5;132;01m}\u001b[39;00m\u001b[38;5;124m@\u001b[39m\u001b[38;5;132;01m{\u001b[39;00mPG_HOST\u001b[38;5;132;01m}\u001b[39;00m\u001b[38;5;124m/\u001b[39m\u001b[38;5;132;01m{\u001b[39;00mEICU_DB\u001b[38;5;132;01m}\u001b[39;00m\u001b[38;5;124m\"\u001b[39m,\n\u001b[1;32m      8\u001b[0m     limit\u001b[38;5;241m=\u001b[39m\u001b[38;5;241m10\u001b[39m,\n\u001b[1;32m      9\u001b[0m     chunksize\u001b[38;5;241m=\u001b[39m\u001b[38;5;241m10\u001b[39m\n\u001b[1;32m     10\u001b[0m )\n\u001b[1;32m     11\u001b[0m amds_config \u001b[38;5;241m=\u001b[39m SourceConfig(\n\u001b[1;32m     12\u001b[0m     \u001b[38;5;124mf\u001b[39m\u001b[38;5;124m\"\u001b[39m\u001b[38;5;124mpostgresql+psycopg://\u001b[39m\u001b[38;5;132;01m{\u001b[39;00mPG_USER\u001b[38;5;132;01m}\u001b[39;00m\u001b[38;5;124m:\u001b[39m\u001b[38;5;132;01m{\u001b[39;00mPG_PASS\u001b[38;5;132;01m}\u001b[39;00m\u001b[38;5;124m@\u001b[39m\u001b[38;5;132;01m{\u001b[39;00mPG_HOST\u001b[38;5;132;01m}\u001b[39;00m\u001b[38;5;124m/\u001b[39m\u001b[38;5;132;01m{\u001b[39;00mAMDS_DB\u001b[38;5;132;01m}\u001b[39;00m\u001b[38;5;124m\"\u001b[39m,\n\u001b[1;32m     13\u001b[0m     limit\u001b[38;5;241m=\u001b[39m\u001b[38;5;241m10\u001b[39m,\n\u001b[1;32m     14\u001b[0m     chunksize\u001b[38;5;241m=\u001b[39m\u001b[38;5;241m10\u001b[39m\n\u001b[1;32m     15\u001b[0m )\n",
      "\u001b[0;31mNameError\u001b[0m: name 'SourceConfig' is not defined"
     ]
    }
   ],
   "source": [
    "mimic_config = SourceConfig(\n",
    "    f\"postgresql+psycopg://{PG_USER}:{PG_PASS}@{PG_HOST}/{MIMIC_DB}\",\n",
    "    limit=10,\n",
    "    chunksize=10\n",
    ")\n",
    "eicu_config = SourceConfig(\n",
    "    f\"postgresql+psycopg://{PG_USER}:{PG_PASS}@{PG_HOST}/{EICU_DB}\",\n",
    "    limit=10,\n",
    "    chunksize=10\n",
    ")\n",
    "amds_config = SourceConfig(\n",
    "    f\"postgresql+psycopg://{PG_USER}:{PG_PASS}@{PG_HOST}/{AMDS_DB}\",\n",
    "    limit=10,\n",
    "    chunksize=10\n",
    ")\n",
    "sic_config = SourceConfig(\n",
    "    f\"postgresql+psycopg://{PG_USER}:{PG_PASS}@{PG_HOST}/{SIC_DB}\",\n",
    "    limit=10,\n",
    "    chunksize=10\n",
    ")\n",
    "hirid_config = SourceConfig(\n",
    "    f\"postgresql+psycopg://{PG_USER}:{PG_PASS}@{PG_HOST}/{HIRID_DB}\",\n",
    "    limit=10,\n",
    "    chunksize=10\n",
    ")"
   ]
  },
  {
   "cell_type": "code",
   "execution_count": 6,
   "metadata": {},
   "outputs": [],
   "source": [
    "from icu_pipeline.sink.pandas import PandasSink\n",
    "\n",
    "pipeline = Pipeline(\n",
    "    source_configs={\n",
    "        DataSource.MIMICIV: mimic_config,\n",
    "    },\n",
    "    sink_mapper=PandasSink(),\n",
    ")\n",
    "\n",
    "concepts = [\"HeartRate\"]"
   ]
  },
  {
   "cell_type": "code",
   "execution_count": 7,
   "metadata": {},
   "outputs": [
    {
     "name": "stdout",
     "output_type": "stream",
     "text": [
      "Pipe Class: InMemoryPipe\n",
      "Node Class: InMemoryNode\n"
     ]
    }
   ],
   "source": [
    "result = pipeline.transform(concepts)\n",
    "print(pipeline._graph)"
   ]
  },
  {
   "cell_type": "code",
   "execution_count": 8,
   "metadata": {},
   "outputs": [
    {
     "ename": "FileNotFoundError",
     "evalue": "[Errno 2] No such file or directory: 'conceptbase/concepts/HeartRate.yml'",
     "output_type": "error",
     "traceback": [
      "\u001b[0;31m---------------------------------------------------------------------------\u001b[0m",
      "\u001b[0;31mFileNotFoundError\u001b[0m                         Traceback (most recent call last)",
      "Cell \u001b[0;32mIn[8], line 3\u001b[0m\n\u001b[1;32m      1\u001b[0m result \u001b[38;5;241m=\u001b[39m [{\n\u001b[1;32m      2\u001b[0m     k: v \u001b[38;5;28;01mfor\u001b[39;00m k,v \u001b[38;5;129;01min\u001b[39;00m c\u001b[38;5;241m.\u001b[39mitems()\n\u001b[0;32m----> 3\u001b[0m } \u001b[38;5;28;01mfor\u001b[39;00m c \u001b[38;5;129;01min\u001b[39;00m result]\n\u001b[1;32m      4\u001b[0m out \u001b[38;5;241m=\u001b[39m {}\n\u001b[1;32m      5\u001b[0m \u001b[38;5;28;01mfor\u001b[39;00m c \u001b[38;5;129;01min\u001b[39;00m pipeline\u001b[38;5;241m.\u001b[39m_sink_mapper\u001b[38;5;241m.\u001b[39m_sources:\n",
      "File \u001b[0;32m/workspaces/icu_pipeline/pipeline.py:77\u001b[0m, in \u001b[0;36mPipeline.transform\u001b[0;34m(self, concepts)\u001b[0m\n\u001b[1;32m     73\u001b[0m \u001b[38;5;28;01massert\u001b[39;00m concepts \u001b[38;5;129;01mand\u001b[39;00m \u001b[38;5;28mlen\u001b[39m(concepts) \u001b[38;5;241m>\u001b[39m \u001b[38;5;241m0\u001b[39m, \u001b[38;5;124m\"\u001b[39m\u001b[38;5;124m'\u001b[39m\u001b[38;5;124mconcepts\u001b[39m\u001b[38;5;124m'\u001b[39m\u001b[38;5;124m is either None or empty.\u001b[39m\u001b[38;5;124m\"\u001b[39m\n\u001b[1;32m     75\u001b[0m \u001b[38;5;28mself\u001b[39m\u001b[38;5;241m.\u001b[39m_graph \u001b[38;5;241m=\u001b[39m Graph()\n\u001b[0;32m---> 77\u001b[0m concepts: List[Concept] \u001b[38;5;241m=\u001b[39m \u001b[38;5;28;43mself\u001b[39;49m\u001b[38;5;241;43m.\u001b[39;49m\u001b[43m_load_concepts\u001b[49m\u001b[43m(\u001b[49m\u001b[43mconcepts\u001b[49m\u001b[43m)\u001b[49m\n\u001b[1;32m     78\u001b[0m concept_id_to_node: \u001b[38;5;28mdict\u001b[39m[\u001b[38;5;28mstr\u001b[39m,Concept] \u001b[38;5;241m=\u001b[39m {}\n\u001b[1;32m     80\u001b[0m \u001b[38;5;66;03m#########################\u001b[39;00m\n\u001b[1;32m     81\u001b[0m \u001b[38;5;66;03m# Create left-to-right\u001b[39;00m\n\u001b[1;32m     82\u001b[0m \u001b[38;5;66;03m#########################\u001b[39;00m\n",
      "File \u001b[0;32m/workspaces/icu_pipeline/pipeline.py:49\u001b[0m, in \u001b[0;36mPipeline._load_concepts\u001b[0;34m(self, concepts, base_path)\u001b[0m\n\u001b[1;32m     46\u001b[0m \u001b[38;5;28;01mfor\u001b[39;00m next_concept \u001b[38;5;129;01min\u001b[39;00m concepts:\n\u001b[1;32m     47\u001b[0m     \u001b[38;5;66;03m# Strings are ConceptNames -> filename\u001b[39;00m\n\u001b[1;32m     48\u001b[0m     \u001b[38;5;28;01mif\u001b[39;00m \u001b[38;5;28misinstance\u001b[39m(next_concept, \u001b[38;5;28mstr\u001b[39m):\n\u001b[0;32m---> 49\u001b[0m         \u001b[38;5;28;01mwith\u001b[39;00m \u001b[38;5;28;43mopen\u001b[39;49m\u001b[43m(\u001b[49m\n\u001b[1;32m     50\u001b[0m \u001b[43m            \u001b[49m\u001b[43mosp\u001b[49m\u001b[38;5;241;43m.\u001b[39;49m\u001b[43mjoin\u001b[49m\u001b[43m(\u001b[49m\u001b[43mbase_path\u001b[49m\u001b[43m,\u001b[49m\u001b[43m \u001b[49m\u001b[38;5;124;43mf\u001b[39;49m\u001b[38;5;124;43m\"\u001b[39;49m\u001b[38;5;132;43;01m{\u001b[39;49;00m\u001b[43mnext_concept\u001b[49m\u001b[38;5;132;43;01m}\u001b[39;49;00m\u001b[38;5;124;43m.yml\u001b[39;49m\u001b[38;5;124;43m\"\u001b[39;49m\u001b[43m)\u001b[49m\u001b[43m,\u001b[49m\u001b[43m \u001b[49m\u001b[38;5;124;43m\"\u001b[39;49m\u001b[38;5;124;43mr\u001b[39;49m\u001b[38;5;124;43m\"\u001b[39;49m\n\u001b[1;32m     51\u001b[0m \u001b[43m        \u001b[49m\u001b[43m)\u001b[49m \u001b[38;5;28;01mas\u001b[39;00m concept_file:\n\u001b[1;32m     52\u001b[0m             config \u001b[38;5;241m=\u001b[39m \u001b[38;5;28mdict\u001b[39m(\u001b[38;5;241m*\u001b[39msafe_load_all(concept_file))\n\u001b[1;32m     53\u001b[0m             out\u001b[38;5;241m.\u001b[39mappend(\n\u001b[1;32m     54\u001b[0m                 Concept(\n\u001b[1;32m     55\u001b[0m                     concept_config\u001b[38;5;241m=\u001b[39mConceptConfig(\u001b[38;5;241m*\u001b[39m\u001b[38;5;241m*\u001b[39mconfig),\n\u001b[0;32m   (...)\u001b[0m\n\u001b[1;32m     58\u001b[0m                 )\n\u001b[1;32m     59\u001b[0m             )\n",
      "\u001b[0;31mFileNotFoundError\u001b[0m: [Errno 2] No such file or directory: 'conceptbase/concepts/HeartRate.yml'"
     ]
    }
   ],
   "source": [
    "result = [{\n",
    "    k: v for k,v in c.items()\n",
    "} for c in result]\n",
    "out = {}\n",
    "for c in pipeline._sink_mapper._sources:\n",
    "    out[c] = pd.concat([v[c] for v in result])\n",
    "out[name]"
   ]
  },
  {
   "cell_type": "code",
   "execution_count": 16,
   "metadata": {},
   "outputs": [
    {
     "ename": "KeyError",
     "evalue": "'Vancomycine_dosage'",
     "output_type": "error",
     "traceback": [
      "\u001b[0;31m---------------------------------------------------------------------------\u001b[0m",
      "\u001b[0;31mKeyError\u001b[0m                                  Traceback (most recent call last)",
      "Cell \u001b[0;32mIn[16], line 1\u001b[0m\n\u001b[0;32m----> 1\u001b[0m \u001b[43mout\u001b[49m\u001b[43m[\u001b[49m\u001b[38;5;124;43m\"\u001b[39;49m\u001b[38;5;124;43mVancomycine_dosage\u001b[39;49m\u001b[38;5;124;43m\"\u001b[39;49m\u001b[43m]\u001b[49m\u001b[38;5;241m.\u001b[39miloc[\u001b[38;5;241m0\u001b[39m]\n",
      "\u001b[0;31mKeyError\u001b[0m: 'Vancomycine_dosage'"
     ]
    }
   ],
   "source": [
    "out[\"Vancomycine_dosage\"].iloc[0]"
   ]
  },
  {
   "cell_type": "code",
   "execution_count": null,
   "metadata": {},
   "outputs": [],
   "source": [
    "print(pipeline._graph)"
   ]
  },
  {
   "cell_type": "code",
   "execution_count": null,
   "metadata": {},
   "outputs": [],
   "source": [
    "pipeline._sink_mapper._sources"
   ]
  },
  {
   "cell_type": "code",
   "execution_count": null,
   "metadata": {},
   "outputs": [],
   "source": [
    "out[\"HeartRate\"]"
   ]
  }
 ],
 "metadata": {
  "kernelspec": {
   "display_name": ".venv",
   "language": "python",
   "name": "python3"
  },
  "language_info": {
   "codemirror_mode": {
    "name": "ipython",
    "version": 3
   },
   "file_extension": ".py",
   "mimetype": "text/x-python",
   "name": "python",
   "nbconvert_exporter": "python",
   "pygments_lexer": "ipython3",
   "version": "3.12.7"
  }
 },
 "nbformat": 4,
 "nbformat_minor": 2
}
