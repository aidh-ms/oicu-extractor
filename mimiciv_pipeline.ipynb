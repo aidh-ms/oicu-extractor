{
 "cells": [
  {
   "cell_type": "code",
   "execution_count": 1,
   "metadata": {},
   "outputs": [
    {
     "name": "stderr",
     "output_type": "stream",
     "text": [
      "/home/paul/projects/ukm/ICUPipeline/venv/lib64/python3.12/site-packages/pydantic/_internal/_fields.py:184: UserWarning: Field name \"schema\" shadows an attribute in parent \"BaseModel\"; \n",
      "  warnings.warn(\n"
     ]
    }
   ],
   "source": [
    "%load_ext autoreload\n",
    "%autoreload 2\n",
    "from icu_pipeline.pipeline import (\n",
    "    Pipeline,\n",
    "    DataSource,\n",
    "    SourceMapperConfiguration,\n",
    ")\n",
    "from icu_pipeline.mapper.sink.file import CSVFileSinkMapper\n",
    "from pathlib import Path\n",
    "from dotenv import load_dotenv\n",
    "import os\n",
    "\n",
    "\n",
    "load_dotenv()\n",
    "\n",
    "POSTGRES_USER = os.getenv(\"POSTGRES_USER\")\n",
    "POSTGRES_PASSWORD = os.getenv(\"POSTGRES_PASSWORD\")\n",
    "POSTGRES_HOST = os.getenv(\"POSTGRES_HOST\")\n",
    "POSTGRES_PORT = os.getenv(\"POSTGRES_PORT\")\n",
    "MIMIC_DB = os.getenv(\"MIMIC_DB\")\n",
    "AMDS_DB = os.getenv(\"AMDS_DB\")\n",
    "EICU_DB = os.getenv(\"EICU_DB\")"
   ]
  },
  {
   "cell_type": "code",
   "execution_count": 2,
   "metadata": {},
   "outputs": [
    {
     "name": "stdout",
     "output_type": "stream",
     "text": [
      "('_concept_config', ConceptConfig(name='HeartRate', description='Heart rate is the speed of the heartbeat measured by the number of contractions of the heart per minute (bpm).', identifiers={<ConceptCoding.SNOMED: 'snomed'>: '364075005', <ConceptCoding.LOINC: 'loinc'>: '8867-4'}, unit='bpm', schema='FHIRObservation', mapper=[MapperConfig(klass='MimicObservationMapper', source='mimic', unit='bpm', params={'schema': 'mimiciv_icu', 'table': 'chartevents', 'constraints': {'itemid': '220045'}})]))\n",
      "('_source_configs', {<DataSource.MIMIC: 'mimic'>: SourceMapperConfiguration(connection='postgresql+psycopg://paul:@localhost/mimiciv', chunksize=10000, limit=1234)})\n",
      "('_concept_coding', <ConceptCoding.SNOMED: 'snomed'>)\n",
      "('_fhir_schema', FHIRObservation)\n"
     ]
    }
   ],
   "source": [
    "configs = {\n",
    "    DataSource.MIMIC: SourceMapperConfiguration(\n",
    "        f\"postgresql+psycopg://{POSTGRES_USER}:{POSTGRES_PASSWORD}@{POSTGRES_HOST}/{MIMIC_DB}\",\n",
    "        limit=1234\n",
    "    ),\n",
    "}\n",
    "\n",
    "pipeline = Pipeline(\n",
    "    source_configs=configs,\n",
    "    # sink_mapper=CSVFileSinkMapper(Path(\"./out\"))\n",
    ")\n",
    "\n",
    "concepts = [\"HeartRate\"]\n",
    "\n",
    "c = pipeline._load_concepts(concepts)\n",
    "for a in c[0].__dict__.items():\n",
    "    print(a)\n"
   ]
  },
  {
   "cell_type": "code",
   "execution_count": 3,
   "metadata": {},
   "outputs": [
    {
     "data": {
      "text/plain": [
       "{'HeartRate': <generator object Concept.map at 0x7fc33b1e4040>}"
      ]
     },
     "execution_count": 3,
     "metadata": {},
     "output_type": "execute_result"
    }
   ],
   "source": [
    "result = pipeline.transform(concepts)\n",
    "result"
   ]
  },
  {
   "cell_type": "code",
   "execution_count": 4,
   "metadata": {},
   "outputs": [
    {
     "name": "stdout",
     "output_type": "stream",
     "text": [
      "\n",
      "            SELECT \"subject_id\" AS \"patient_id\", \"charttime\" AS \"timestamp\", \"valuenum\" AS \"value\", \"valueuom\" AS \"unit\"\n",
      "            FROM \"mimiciv_icu\".\"chartevents\"\n",
      "            WHERE \"itemid\" = '220045'\n",
      "            LIMIT 1234\n",
      "        \n"
     ]
    },
    {
     "data": {
      "text/html": [
       "<div>\n",
       "<style scoped>\n",
       "    .dataframe tbody tr th:only-of-type {\n",
       "        vertical-align: middle;\n",
       "    }\n",
       "\n",
       "    .dataframe tbody tr th {\n",
       "        vertical-align: top;\n",
       "    }\n",
       "\n",
       "    .dataframe thead th {\n",
       "        text-align: right;\n",
       "    }\n",
       "</style>\n",
       "<table border=\"1\" class=\"dataframe\">\n",
       "  <thead>\n",
       "    <tr style=\"text-align: right;\">\n",
       "      <th></th>\n",
       "      <th>subject</th>\n",
       "      <th>effective_date_time</th>\n",
       "      <th>value_quantity</th>\n",
       "      <th>code</th>\n",
       "    </tr>\n",
       "  </thead>\n",
       "  <tbody>\n",
       "    <tr>\n",
       "      <th>0</th>\n",
       "      <td>{'reference': '10000032', 'type': 'mimic-patie...</td>\n",
       "      <td>2180-07-23 22:00:00+00:00</td>\n",
       "      <td>{'value': 94.0, 'unit': 'bpm'}</td>\n",
       "      <td>{'coding': {'code': '364075005', 'system': 'sn...</td>\n",
       "    </tr>\n",
       "    <tr>\n",
       "      <th>1</th>\n",
       "      <td>{'reference': '10000032', 'type': 'mimic-patie...</td>\n",
       "      <td>2180-07-23 19:00:00+00:00</td>\n",
       "      <td>{'value': 97.0, 'unit': 'bpm'}</td>\n",
       "      <td>{'coding': {'code': '364075005', 'system': 'sn...</td>\n",
       "    </tr>\n",
       "    <tr>\n",
       "      <th>2</th>\n",
       "      <td>{'reference': '10000032', 'type': 'mimic-patie...</td>\n",
       "      <td>2180-07-23 20:00:00+00:00</td>\n",
       "      <td>{'value': 100.0, 'unit': 'bpm'}</td>\n",
       "      <td>{'coding': {'code': '364075005', 'system': 'sn...</td>\n",
       "    </tr>\n",
       "    <tr>\n",
       "      <th>3</th>\n",
       "      <td>{'reference': '10000032', 'type': 'mimic-patie...</td>\n",
       "      <td>2180-07-23 21:00:00+00:00</td>\n",
       "      <td>{'value': 94.0, 'unit': 'bpm'}</td>\n",
       "      <td>{'coding': {'code': '364075005', 'system': 'sn...</td>\n",
       "    </tr>\n",
       "    <tr>\n",
       "      <th>4</th>\n",
       "      <td>{'reference': '10000032', 'type': 'mimic-patie...</td>\n",
       "      <td>2180-07-23 14:12:00+00:00</td>\n",
       "      <td>{'value': 91.0, 'unit': 'bpm'}</td>\n",
       "      <td>{'coding': {'code': '364075005', 'system': 'sn...</td>\n",
       "    </tr>\n",
       "    <tr>\n",
       "      <th>...</th>\n",
       "      <td>...</td>\n",
       "      <td>...</td>\n",
       "      <td>...</td>\n",
       "      <td>...</td>\n",
       "    </tr>\n",
       "    <tr>\n",
       "      <th>1229</th>\n",
       "      <td>{'reference': '10002428', 'type': 'mimic-patie...</td>\n",
       "      <td>2156-04-14 06:00:00+00:00</td>\n",
       "      <td>{'value': 99.0, 'unit': 'bpm'}</td>\n",
       "      <td>{'coding': {'code': '364075005', 'system': 'sn...</td>\n",
       "    </tr>\n",
       "    <tr>\n",
       "      <th>1230</th>\n",
       "      <td>{'reference': '10002428', 'type': 'mimic-patie...</td>\n",
       "      <td>2156-04-12 17:26:00+00:00</td>\n",
       "      <td>{'value': 124.0, 'unit': 'bpm'}</td>\n",
       "      <td>{'coding': {'code': '364075005', 'system': 'sn...</td>\n",
       "    </tr>\n",
       "    <tr>\n",
       "      <th>1231</th>\n",
       "      <td>{'reference': '10002428', 'type': 'mimic-patie...</td>\n",
       "      <td>2156-04-12 17:30:00+00:00</td>\n",
       "      <td>{'value': 120.0, 'unit': 'bpm'}</td>\n",
       "      <td>{'coding': {'code': '364075005', 'system': 'sn...</td>\n",
       "    </tr>\n",
       "    <tr>\n",
       "      <th>1232</th>\n",
       "      <td>{'reference': '10002428', 'type': 'mimic-patie...</td>\n",
       "      <td>2156-04-12 17:45:00+00:00</td>\n",
       "      <td>{'value': 134.0, 'unit': 'bpm'}</td>\n",
       "      <td>{'coding': {'code': '364075005', 'system': 'sn...</td>\n",
       "    </tr>\n",
       "    <tr>\n",
       "      <th>1233</th>\n",
       "      <td>{'reference': '10002428', 'type': 'mimic-patie...</td>\n",
       "      <td>2156-04-12 18:00:00+00:00</td>\n",
       "      <td>{'value': 120.0, 'unit': 'bpm'}</td>\n",
       "      <td>{'coding': {'code': '364075005', 'system': 'sn...</td>\n",
       "    </tr>\n",
       "  </tbody>\n",
       "</table>\n",
       "<p>1234 rows × 4 columns</p>\n",
       "</div>"
      ],
      "text/plain": [
       "                                                subject  \\\n",
       "0     {'reference': '10000032', 'type': 'mimic-patie...   \n",
       "1     {'reference': '10000032', 'type': 'mimic-patie...   \n",
       "2     {'reference': '10000032', 'type': 'mimic-patie...   \n",
       "3     {'reference': '10000032', 'type': 'mimic-patie...   \n",
       "4     {'reference': '10000032', 'type': 'mimic-patie...   \n",
       "...                                                 ...   \n",
       "1229  {'reference': '10002428', 'type': 'mimic-patie...   \n",
       "1230  {'reference': '10002428', 'type': 'mimic-patie...   \n",
       "1231  {'reference': '10002428', 'type': 'mimic-patie...   \n",
       "1232  {'reference': '10002428', 'type': 'mimic-patie...   \n",
       "1233  {'reference': '10002428', 'type': 'mimic-patie...   \n",
       "\n",
       "           effective_date_time                   value_quantity  \\\n",
       "0    2180-07-23 22:00:00+00:00   {'value': 94.0, 'unit': 'bpm'}   \n",
       "1    2180-07-23 19:00:00+00:00   {'value': 97.0, 'unit': 'bpm'}   \n",
       "2    2180-07-23 20:00:00+00:00  {'value': 100.0, 'unit': 'bpm'}   \n",
       "3    2180-07-23 21:00:00+00:00   {'value': 94.0, 'unit': 'bpm'}   \n",
       "4    2180-07-23 14:12:00+00:00   {'value': 91.0, 'unit': 'bpm'}   \n",
       "...                        ...                              ...   \n",
       "1229 2156-04-14 06:00:00+00:00   {'value': 99.0, 'unit': 'bpm'}   \n",
       "1230 2156-04-12 17:26:00+00:00  {'value': 124.0, 'unit': 'bpm'}   \n",
       "1231 2156-04-12 17:30:00+00:00  {'value': 120.0, 'unit': 'bpm'}   \n",
       "1232 2156-04-12 17:45:00+00:00  {'value': 134.0, 'unit': 'bpm'}   \n",
       "1233 2156-04-12 18:00:00+00:00  {'value': 120.0, 'unit': 'bpm'}   \n",
       "\n",
       "                                                   code  \n",
       "0     {'coding': {'code': '364075005', 'system': 'sn...  \n",
       "1     {'coding': {'code': '364075005', 'system': 'sn...  \n",
       "2     {'coding': {'code': '364075005', 'system': 'sn...  \n",
       "3     {'coding': {'code': '364075005', 'system': 'sn...  \n",
       "4     {'coding': {'code': '364075005', 'system': 'sn...  \n",
       "...                                                 ...  \n",
       "1229  {'coding': {'code': '364075005', 'system': 'sn...  \n",
       "1230  {'coding': {'code': '364075005', 'system': 'sn...  \n",
       "1231  {'coding': {'code': '364075005', 'system': 'sn...  \n",
       "1232  {'coding': {'code': '364075005', 'system': 'sn...  \n",
       "1233  {'coding': {'code': '364075005', 'system': 'sn...  \n",
       "\n",
       "[1234 rows x 4 columns]"
      ]
     },
     "execution_count": 4,
     "metadata": {},
     "output_type": "execute_result"
    }
   ],
   "source": [
    "d = next(result[\"HeartRate\"])\n",
    "d"
   ]
  },
  {
   "cell_type": "code",
   "execution_count": null,
   "metadata": {},
   "outputs": [],
   "source": []
  }
 ],
 "metadata": {
  "kernelspec": {
   "display_name": "openicu",
   "language": "python",
   "name": "python3"
  },
  "language_info": {
   "codemirror_mode": {
    "name": "ipython",
    "version": 3
   },
   "file_extension": ".py",
   "mimetype": "text/x-python",
   "name": "python",
   "nbconvert_exporter": "python",
   "pygments_lexer": "ipython3",
   "version": "3.12.0"
  }
 },
 "nbformat": 4,
 "nbformat_minor": 2
}
