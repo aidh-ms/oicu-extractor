{
 "cells": [
  {
   "cell_type": "code",
   "execution_count": 18,
   "metadata": {},
   "outputs": [
    {
     "name": "stdout",
     "output_type": "stream",
     "text": [
      "The autoreload extension is already loaded. To reload it, use:\n",
      "  %reload_ext autoreload\n"
     ]
    }
   ],
   "source": [
    "%load_ext autoreload\n",
    "%autoreload 2\n",
    "import os\n",
    "import sys\n",
    "sys.path.append(os.path.abspath(os.path.join(\"..\")))\n",
    "\n",
    "import pandas as pd\n",
    "\n",
    "from icu_pipeline.pipeline import (\n",
    "    Pipeline,\n",
    "    DataSource,\n",
    "    SourceConfig,\n",
    ")\n",
    "\n",
    "PG_PASS = os.getenv(\"PG_PASS\")\n",
    "PG_USER = os.getenv(\"PG_USER\")\n",
    "PG_HOST = os.getenv(\"PG_HOST\")\n",
    "PG_PORT = os.getenv(\"PG_PORT\")\n",
    "\n",
    "MIMIC_DB = os.getenv(\"PG_MIMIC_NAME\")\n",
    "EICU_DB = os.getenv(\"PG_EICU_NAME\")\n",
    "AMDS_DB = os.getenv(\"PG_AMDS_NAME\")\n",
    "SIC_DB = os.getenv(\"PG_SIC_NAME\")\n",
    "HIRID_DB = os.getenv(\"PG_HIRID_NAME\")"
   ]
  },
  {
   "cell_type": "code",
   "execution_count": 19,
   "metadata": {},
   "outputs": [],
   "source": [
    "mimic_config = SourceConfig(\n",
    "    f\"postgresql+psycopg://{PG_USER}:{PG_PASS}@{PG_HOST}/{MIMIC_DB}\",\n",
    "    limit=10,\n",
    "    chunksize=10\n",
    ")\n",
    "eicu_config = SourceConfig(\n",
    "    f\"postgresql+psycopg://{PG_USER}:{PG_PASS}@{PG_HOST}/{EICU_DB}\",\n",
    "    limit=10,\n",
    "    chunksize=10\n",
    ")\n",
    "amds_config = SourceConfig(\n",
    "    f\"postgresql+psycopg://{PG_USER}:{PG_PASS}@{PG_HOST}/{AMDS_DB}\",\n",
    "    limit=10,\n",
    "    chunksize=10\n",
    ")\n",
    "sic_config = SourceConfig(\n",
    "    f\"postgresql+psycopg://{PG_USER}:{PG_PASS}@{PG_HOST}/{SIC_DB}\",\n",
    "    limit=10,\n",
    "    chunksize=10\n",
    ")\n",
    "hirid_config = SourceConfig(\n",
    "    f\"postgresql+psycopg://{PG_USER}:{PG_PASS}@{PG_HOST}/{HIRID_DB}\",\n",
    "    limit=10,\n",
    "    chunksize=10\n",
    ")"
   ]
  },
  {
   "cell_type": "code",
   "execution_count": 20,
   "metadata": {},
   "outputs": [],
   "source": [
    "from icu_pipeline.sink.pandas import PandasSink\n",
    "\n",
    "pipeline = Pipeline(\n",
    "    source_configs={\n",
    "        #DataSource.MIMICIV: mimic_config,\n",
    "        DataSource.EICU: eicu_config,\n",
    "    },\n",
    "    sink_mapper=PandasSink(),\n",
    ")\n",
    "\n",
    "concepts = [\"HeartRate\"]"
   ]
  },
  {
   "cell_type": "code",
   "execution_count": 21,
   "metadata": {},
   "outputs": [
    {
     "name": "stdout",
     "output_type": "stream",
     "text": [
      "Pipe Class: InMemoryPipe\n",
      "Node Class: InMemoryNode\n"
     ]
    }
   ],
   "source": [
    "from pathlib import Path\n",
    "\n",
    "base_path = str(Path.cwd().parent / \"conceptbase\" / \"concepts\")\n",
    "\n",
    "result = pipeline.transform(concepts, base_path)\n",
    "print(pipeline._graph)"
   ]
  },
  {
   "cell_type": "code",
   "execution_count": 22,
   "metadata": {},
   "outputs": [
    {
     "name": "stderr",
     "output_type": "stream",
     "text": [
      "\u001b[36mDEBUG:root:Added 0 new dependencies to the Graph.\u001b[0m\n"
     ]
    },
    {
     "name": "stderr",
     "output_type": "stream",
     "text": [
      "\u001b[36mDEBUG:root:\n",
      "            SELECT DISTINCT \"patienthealthsystemstayid\"\n",
      "            FROM \"eicu_crd\".\"patient\"\n",
      "            LIMIT 10\n",
      "        \u001b[0m\n",
      "\u001b[36mDEBUG:root:\n",
      "                SELECT \"heartrate\" AS \"value\", \"patienthealthsystemstayid\" AS \"patient_id\", \"hospitaladmittime24\" AS \"time\", \"hospitaldischargeyear\" AS \"year\", \"observationoffset\" AS \"offset\"\n",
      "                FROM \"eicu_crd\".\"vitalperiodic\"\n",
      "                INNER JOIN \"eicu_crd\".\"patient\" ON \"eicu_crd\".\"vitalperiodic\".\"patientunitstayid\" = \"eicu_crd\".\"patient\".\"patientunitstayid\"\n",
      "                WHERE \"heartrate\" IS NOT NULL\n",
      "                AND patienthealthsystemstayid IN (128919,128927,128941,128943,128948,128952,128968,128970,128973,128982)\n",
      "            \u001b[0m\n"
     ]
    },
    {
     "name": "stdout",
     "output_type": "stream",
     "text": [
      "Pipe Class: InMemoryPipe\n",
      "Node Class: InMemoryNode\n",
      "Concept(5,HeartRate)-->FrequencyConverter(6)-->PandasSink(4)\n"
     ]
    },
    {
     "data": {
      "text/html": [
       "<div>\n",
       "<style scoped>\n",
       "    .dataframe tbody tr th:only-of-type {\n",
       "        vertical-align: middle;\n",
       "    }\n",
       "\n",
       "    .dataframe tbody tr th {\n",
       "        vertical-align: top;\n",
       "    }\n",
       "\n",
       "    .dataframe thead th {\n",
       "        text-align: right;\n",
       "    }\n",
       "</style>\n",
       "<table border=\"1\" class=\"dataframe\">\n",
       "  <thead>\n",
       "    <tr style=\"text-align: right;\">\n",
       "      <th></th>\n",
       "      <th>subject</th>\n",
       "      <th>effective_date_time</th>\n",
       "      <th>value_quantity</th>\n",
       "      <th>code</th>\n",
       "    </tr>\n",
       "  </thead>\n",
       "  <tbody>\n",
       "    <tr>\n",
       "      <th>0</th>\n",
       "      <td>{'reference': '128919', 'type': 'eicu'}</td>\n",
       "      <td>2015-01-03 02:13:00+00:00</td>\n",
       "      <td>{'value': 92.0, 'unit': 'bpm'}</td>\n",
       "      <td>{'coding': {'code': 'HeartRate', 'system': 'sn...</td>\n",
       "    </tr>\n",
       "    <tr>\n",
       "      <th>1</th>\n",
       "      <td>{'reference': '128919', 'type': 'eicu'}</td>\n",
       "      <td>2015-01-02 13:23:00+00:00</td>\n",
       "      <td>{'value': 118.0, 'unit': 'bpm'}</td>\n",
       "      <td>{'coding': {'code': 'HeartRate', 'system': 'sn...</td>\n",
       "    </tr>\n",
       "    <tr>\n",
       "      <th>2</th>\n",
       "      <td>{'reference': '128919', 'type': 'eicu'}</td>\n",
       "      <td>2015-01-02 21:48:00+00:00</td>\n",
       "      <td>{'value': 78.0, 'unit': 'bpm'}</td>\n",
       "      <td>{'coding': {'code': 'HeartRate', 'system': 'sn...</td>\n",
       "    </tr>\n",
       "    <tr>\n",
       "      <th>3</th>\n",
       "      <td>{'reference': '128919', 'type': 'eicu'}</td>\n",
       "      <td>2015-01-02 14:48:00+00:00</td>\n",
       "      <td>{'value': 118.0, 'unit': 'bpm'}</td>\n",
       "      <td>{'coding': {'code': 'HeartRate', 'system': 'sn...</td>\n",
       "    </tr>\n",
       "    <tr>\n",
       "      <th>4</th>\n",
       "      <td>{'reference': '128919', 'type': 'eicu'}</td>\n",
       "      <td>2015-01-03 01:53:00+00:00</td>\n",
       "      <td>{'value': 92.0, 'unit': 'bpm'}</td>\n",
       "      <td>{'coding': {'code': 'HeartRate', 'system': 'sn...</td>\n",
       "    </tr>\n",
       "    <tr>\n",
       "      <th>...</th>\n",
       "      <td>...</td>\n",
       "      <td>...</td>\n",
       "      <td>...</td>\n",
       "      <td>...</td>\n",
       "    </tr>\n",
       "    <tr>\n",
       "      <th>6814</th>\n",
       "      <td>{'reference': '128982', 'type': 'eicu'}</td>\n",
       "      <td>2015-01-02 15:21:00+00:00</td>\n",
       "      <td>{'value': 104.0, 'unit': 'bpm'}</td>\n",
       "      <td>{'coding': {'code': 'HeartRate', 'system': 'sn...</td>\n",
       "    </tr>\n",
       "    <tr>\n",
       "      <th>6815</th>\n",
       "      <td>{'reference': '128982', 'type': 'eicu'}</td>\n",
       "      <td>2015-01-01 13:41:00+00:00</td>\n",
       "      <td>{'value': 98.0, 'unit': 'bpm'}</td>\n",
       "      <td>{'coding': {'code': 'HeartRate', 'system': 'sn...</td>\n",
       "    </tr>\n",
       "    <tr>\n",
       "      <th>6816</th>\n",
       "      <td>{'reference': '128982', 'type': 'eicu'}</td>\n",
       "      <td>2015-01-03 15:31:00+00:00</td>\n",
       "      <td>{'value': 96.0, 'unit': 'bpm'}</td>\n",
       "      <td>{'coding': {'code': 'HeartRate', 'system': 'sn...</td>\n",
       "    </tr>\n",
       "    <tr>\n",
       "      <th>6817</th>\n",
       "      <td>{'reference': '128982', 'type': 'eicu'}</td>\n",
       "      <td>2015-01-01 15:06:00+00:00</td>\n",
       "      <td>{'value': 100.0, 'unit': 'bpm'}</td>\n",
       "      <td>{'coding': {'code': 'HeartRate', 'system': 'sn...</td>\n",
       "    </tr>\n",
       "    <tr>\n",
       "      <th>6818</th>\n",
       "      <td>{'reference': '128982', 'type': 'eicu'}</td>\n",
       "      <td>2015-01-02 14:41:00+00:00</td>\n",
       "      <td>{'value': 98.0, 'unit': 'bpm'}</td>\n",
       "      <td>{'coding': {'code': 'HeartRate', 'system': 'sn...</td>\n",
       "    </tr>\n",
       "  </tbody>\n",
       "</table>\n",
       "<p>6819 rows × 4 columns</p>\n",
       "</div>"
      ],
      "text/plain": [
       "                                      subject       effective_date_time  \\\n",
       "0     {'reference': '128919', 'type': 'eicu'} 2015-01-03 02:13:00+00:00   \n",
       "1     {'reference': '128919', 'type': 'eicu'} 2015-01-02 13:23:00+00:00   \n",
       "2     {'reference': '128919', 'type': 'eicu'} 2015-01-02 21:48:00+00:00   \n",
       "3     {'reference': '128919', 'type': 'eicu'} 2015-01-02 14:48:00+00:00   \n",
       "4     {'reference': '128919', 'type': 'eicu'} 2015-01-03 01:53:00+00:00   \n",
       "...                                       ...                       ...   \n",
       "6814  {'reference': '128982', 'type': 'eicu'} 2015-01-02 15:21:00+00:00   \n",
       "6815  {'reference': '128982', 'type': 'eicu'} 2015-01-01 13:41:00+00:00   \n",
       "6816  {'reference': '128982', 'type': 'eicu'} 2015-01-03 15:31:00+00:00   \n",
       "6817  {'reference': '128982', 'type': 'eicu'} 2015-01-01 15:06:00+00:00   \n",
       "6818  {'reference': '128982', 'type': 'eicu'} 2015-01-02 14:41:00+00:00   \n",
       "\n",
       "                       value_quantity  \\\n",
       "0      {'value': 92.0, 'unit': 'bpm'}   \n",
       "1     {'value': 118.0, 'unit': 'bpm'}   \n",
       "2      {'value': 78.0, 'unit': 'bpm'}   \n",
       "3     {'value': 118.0, 'unit': 'bpm'}   \n",
       "4      {'value': 92.0, 'unit': 'bpm'}   \n",
       "...                               ...   \n",
       "6814  {'value': 104.0, 'unit': 'bpm'}   \n",
       "6815   {'value': 98.0, 'unit': 'bpm'}   \n",
       "6816   {'value': 96.0, 'unit': 'bpm'}   \n",
       "6817  {'value': 100.0, 'unit': 'bpm'}   \n",
       "6818   {'value': 98.0, 'unit': 'bpm'}   \n",
       "\n",
       "                                                   code  \n",
       "0     {'coding': {'code': 'HeartRate', 'system': 'sn...  \n",
       "1     {'coding': {'code': 'HeartRate', 'system': 'sn...  \n",
       "2     {'coding': {'code': 'HeartRate', 'system': 'sn...  \n",
       "3     {'coding': {'code': 'HeartRate', 'system': 'sn...  \n",
       "4     {'coding': {'code': 'HeartRate', 'system': 'sn...  \n",
       "...                                                 ...  \n",
       "6814  {'coding': {'code': 'HeartRate', 'system': 'sn...  \n",
       "6815  {'coding': {'code': 'HeartRate', 'system': 'sn...  \n",
       "6816  {'coding': {'code': 'HeartRate', 'system': 'sn...  \n",
       "6817  {'coding': {'code': 'HeartRate', 'system': 'sn...  \n",
       "6818  {'coding': {'code': 'HeartRate', 'system': 'sn...  \n",
       "\n",
       "[6819 rows x 4 columns]"
      ]
     },
     "execution_count": 22,
     "metadata": {},
     "output_type": "execute_result"
    }
   ],
   "source": [
    "result = [{\n",
    "    k: v for k,v in c.items()\n",
    "} for c in result]\n",
    "out = {}\n",
    "for c in pipeline._sink_mapper._sources:\n",
    "    out[c] = pd.concat([v[c] for v in result])\n",
    "out[\"HeartRate\"]"
   ]
  },
  {
   "cell_type": "code",
   "execution_count": 23,
   "metadata": {},
   "outputs": [
    {
     "data": {
      "text/html": [
       "<div>\n",
       "<style scoped>\n",
       "    .dataframe tbody tr th:only-of-type {\n",
       "        vertical-align: middle;\n",
       "    }\n",
       "\n",
       "    .dataframe tbody tr th {\n",
       "        vertical-align: top;\n",
       "    }\n",
       "\n",
       "    .dataframe thead th {\n",
       "        text-align: right;\n",
       "    }\n",
       "</style>\n",
       "<table border=\"1\" class=\"dataframe\">\n",
       "  <thead>\n",
       "    <tr style=\"text-align: right;\">\n",
       "      <th></th>\n",
       "      <th>subject</th>\n",
       "      <th>effective_date_time</th>\n",
       "      <th>value_quantity</th>\n",
       "      <th>code</th>\n",
       "    </tr>\n",
       "  </thead>\n",
       "  <tbody>\n",
       "    <tr>\n",
       "      <th>0</th>\n",
       "      <td>{'reference': '128919', 'type': 'eicu'}</td>\n",
       "      <td>2015-01-03 02:13:00+00:00</td>\n",
       "      <td>{'value': 92.0, 'unit': 'bpm'}</td>\n",
       "      <td>{'coding': {'code': 'HeartRate', 'system': 'sn...</td>\n",
       "    </tr>\n",
       "    <tr>\n",
       "      <th>1</th>\n",
       "      <td>{'reference': '128919', 'type': 'eicu'}</td>\n",
       "      <td>2015-01-02 13:23:00+00:00</td>\n",
       "      <td>{'value': 118.0, 'unit': 'bpm'}</td>\n",
       "      <td>{'coding': {'code': 'HeartRate', 'system': 'sn...</td>\n",
       "    </tr>\n",
       "    <tr>\n",
       "      <th>2</th>\n",
       "      <td>{'reference': '128919', 'type': 'eicu'}</td>\n",
       "      <td>2015-01-02 21:48:00+00:00</td>\n",
       "      <td>{'value': 78.0, 'unit': 'bpm'}</td>\n",
       "      <td>{'coding': {'code': 'HeartRate', 'system': 'sn...</td>\n",
       "    </tr>\n",
       "    <tr>\n",
       "      <th>3</th>\n",
       "      <td>{'reference': '128919', 'type': 'eicu'}</td>\n",
       "      <td>2015-01-02 14:48:00+00:00</td>\n",
       "      <td>{'value': 118.0, 'unit': 'bpm'}</td>\n",
       "      <td>{'coding': {'code': 'HeartRate', 'system': 'sn...</td>\n",
       "    </tr>\n",
       "    <tr>\n",
       "      <th>4</th>\n",
       "      <td>{'reference': '128919', 'type': 'eicu'}</td>\n",
       "      <td>2015-01-03 01:53:00+00:00</td>\n",
       "      <td>{'value': 92.0, 'unit': 'bpm'}</td>\n",
       "      <td>{'coding': {'code': 'HeartRate', 'system': 'sn...</td>\n",
       "    </tr>\n",
       "    <tr>\n",
       "      <th>...</th>\n",
       "      <td>...</td>\n",
       "      <td>...</td>\n",
       "      <td>...</td>\n",
       "      <td>...</td>\n",
       "    </tr>\n",
       "    <tr>\n",
       "      <th>6814</th>\n",
       "      <td>{'reference': '128982', 'type': 'eicu'}</td>\n",
       "      <td>2015-01-02 15:21:00+00:00</td>\n",
       "      <td>{'value': 104.0, 'unit': 'bpm'}</td>\n",
       "      <td>{'coding': {'code': 'HeartRate', 'system': 'sn...</td>\n",
       "    </tr>\n",
       "    <tr>\n",
       "      <th>6815</th>\n",
       "      <td>{'reference': '128982', 'type': 'eicu'}</td>\n",
       "      <td>2015-01-01 13:41:00+00:00</td>\n",
       "      <td>{'value': 98.0, 'unit': 'bpm'}</td>\n",
       "      <td>{'coding': {'code': 'HeartRate', 'system': 'sn...</td>\n",
       "    </tr>\n",
       "    <tr>\n",
       "      <th>6816</th>\n",
       "      <td>{'reference': '128982', 'type': 'eicu'}</td>\n",
       "      <td>2015-01-03 15:31:00+00:00</td>\n",
       "      <td>{'value': 96.0, 'unit': 'bpm'}</td>\n",
       "      <td>{'coding': {'code': 'HeartRate', 'system': 'sn...</td>\n",
       "    </tr>\n",
       "    <tr>\n",
       "      <th>6817</th>\n",
       "      <td>{'reference': '128982', 'type': 'eicu'}</td>\n",
       "      <td>2015-01-01 15:06:00+00:00</td>\n",
       "      <td>{'value': 100.0, 'unit': 'bpm'}</td>\n",
       "      <td>{'coding': {'code': 'HeartRate', 'system': 'sn...</td>\n",
       "    </tr>\n",
       "    <tr>\n",
       "      <th>6818</th>\n",
       "      <td>{'reference': '128982', 'type': 'eicu'}</td>\n",
       "      <td>2015-01-02 14:41:00+00:00</td>\n",
       "      <td>{'value': 98.0, 'unit': 'bpm'}</td>\n",
       "      <td>{'coding': {'code': 'HeartRate', 'system': 'sn...</td>\n",
       "    </tr>\n",
       "  </tbody>\n",
       "</table>\n",
       "<p>6819 rows × 4 columns</p>\n",
       "</div>"
      ],
      "text/plain": [
       "                                      subject       effective_date_time  \\\n",
       "0     {'reference': '128919', 'type': 'eicu'} 2015-01-03 02:13:00+00:00   \n",
       "1     {'reference': '128919', 'type': 'eicu'} 2015-01-02 13:23:00+00:00   \n",
       "2     {'reference': '128919', 'type': 'eicu'} 2015-01-02 21:48:00+00:00   \n",
       "3     {'reference': '128919', 'type': 'eicu'} 2015-01-02 14:48:00+00:00   \n",
       "4     {'reference': '128919', 'type': 'eicu'} 2015-01-03 01:53:00+00:00   \n",
       "...                                       ...                       ...   \n",
       "6814  {'reference': '128982', 'type': 'eicu'} 2015-01-02 15:21:00+00:00   \n",
       "6815  {'reference': '128982', 'type': 'eicu'} 2015-01-01 13:41:00+00:00   \n",
       "6816  {'reference': '128982', 'type': 'eicu'} 2015-01-03 15:31:00+00:00   \n",
       "6817  {'reference': '128982', 'type': 'eicu'} 2015-01-01 15:06:00+00:00   \n",
       "6818  {'reference': '128982', 'type': 'eicu'} 2015-01-02 14:41:00+00:00   \n",
       "\n",
       "                       value_quantity  \\\n",
       "0      {'value': 92.0, 'unit': 'bpm'}   \n",
       "1     {'value': 118.0, 'unit': 'bpm'}   \n",
       "2      {'value': 78.0, 'unit': 'bpm'}   \n",
       "3     {'value': 118.0, 'unit': 'bpm'}   \n",
       "4      {'value': 92.0, 'unit': 'bpm'}   \n",
       "...                               ...   \n",
       "6814  {'value': 104.0, 'unit': 'bpm'}   \n",
       "6815   {'value': 98.0, 'unit': 'bpm'}   \n",
       "6816   {'value': 96.0, 'unit': 'bpm'}   \n",
       "6817  {'value': 100.0, 'unit': 'bpm'}   \n",
       "6818   {'value': 98.0, 'unit': 'bpm'}   \n",
       "\n",
       "                                                   code  \n",
       "0     {'coding': {'code': 'HeartRate', 'system': 'sn...  \n",
       "1     {'coding': {'code': 'HeartRate', 'system': 'sn...  \n",
       "2     {'coding': {'code': 'HeartRate', 'system': 'sn...  \n",
       "3     {'coding': {'code': 'HeartRate', 'system': 'sn...  \n",
       "4     {'coding': {'code': 'HeartRate', 'system': 'sn...  \n",
       "...                                                 ...  \n",
       "6814  {'coding': {'code': 'HeartRate', 'system': 'sn...  \n",
       "6815  {'coding': {'code': 'HeartRate', 'system': 'sn...  \n",
       "6816  {'coding': {'code': 'HeartRate', 'system': 'sn...  \n",
       "6817  {'coding': {'code': 'HeartRate', 'system': 'sn...  \n",
       "6818  {'coding': {'code': 'HeartRate', 'system': 'sn...  \n",
       "\n",
       "[6819 rows x 4 columns]"
      ]
     },
     "execution_count": 23,
     "metadata": {},
     "output_type": "execute_result"
    }
   ],
   "source": [
    "out[\"HeartRate\"]"
   ]
  },
  {
   "cell_type": "code",
   "execution_count": 6,
   "metadata": {},
   "outputs": [
    {
     "data": {
      "text/plain": [
       "subject                          {'reference': '128919', 'type': 'eicu'}\n",
       "effective_date_time                            2015-01-03 02:13:00+00:00\n",
       "value_quantity                            {'value': 92.0, 'unit': 'bpm'}\n",
       "code                   {'coding': {'code': 'HeartRate', 'system': 'sn...\n",
       "Name: 0, dtype: object"
      ]
     },
     "execution_count": 6,
     "metadata": {},
     "output_type": "execute_result"
    }
   ],
   "source": [
    "out[\"HeartRate\"].iloc[0]"
   ]
  },
  {
   "cell_type": "code",
   "execution_count": 7,
   "metadata": {},
   "outputs": [
    {
     "name": "stdout",
     "output_type": "stream",
     "text": [
      "Pipe Class: InMemoryPipe\n",
      "Node Class: InMemoryNode\n",
      "Concept(1,HeartRate)-->FrequencyConverter(2)-->PandasSink(0)\n"
     ]
    }
   ],
   "source": [
    "print(pipeline._graph)"
   ]
  },
  {
   "cell_type": "code",
   "execution_count": 8,
   "metadata": {},
   "outputs": [
    {
     "data": {
      "text/plain": [
       "{'HeartRate': <icu_pipeline.graph.in_memory.InMemoryPipe at 0x7f9c1e5b3530>}"
      ]
     },
     "execution_count": 8,
     "metadata": {},
     "output_type": "execute_result"
    }
   ],
   "source": [
    "pipeline._sink_mapper._sources"
   ]
  }
 ],
 "metadata": {
  "kernelspec": {
   "display_name": ".venv",
   "language": "python",
   "name": "python3"
  },
  "language_info": {
   "codemirror_mode": {
    "name": "ipython",
    "version": 3
   },
   "file_extension": ".py",
   "mimetype": "text/x-python",
   "name": "python",
   "nbconvert_exporter": "python",
   "pygments_lexer": "ipython3",
   "version": "3.12.7"
  }
 },
 "nbformat": 4,
 "nbformat_minor": 2
}
