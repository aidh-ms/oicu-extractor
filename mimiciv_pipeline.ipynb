{
 "cells": [
  {
   "cell_type": "code",
   "execution_count": 1,
   "metadata": {},
   "outputs": [
    {
     "name": "stderr",
     "output_type": "stream",
     "text": [
      "/home/fu/anaconda3/envs/oicu/lib/python3.12/site-packages/pydantic/_internal/_fields.py:200: UserWarning: Field name \"schema\" in \"ConceptConfig\" shadows an attribute in parent \"BaseModel\"\n",
      "  warnings.warn(\n",
      "\u001b[32mINFO:root:New Logger Created\u001b[0m\n"
     ]
    }
   ],
   "source": [
    "%load_ext autoreload\n",
    "%autoreload 2\n",
    "from icu_pipeline.pipeline import (\n",
    "    Pipeline,\n",
    "    DataSource,\n",
    "    SourceConfig,\n",
    ")\n",
    "from pathlib import Path\n",
    "from dotenv import load_dotenv\n",
    "import os\n",
    "import pandas as pd\n",
    "\n",
    "\n",
    "load_dotenv()\n",
    "\n",
    "POSTGRES_USER = os.getenv(\"POSTGRES_USER\")\n",
    "POSTGRES_PASSWORD = os.getenv(\"POSTGRES_PASSWORD\")\n",
    "POSTGRES_HOST = os.getenv(\"POSTGRES_HOST\")\n",
    "POSTGRES_PORT = os.getenv(\"POSTGRES_PORT\")\n",
    "MIMIC_DB = os.getenv(\"MIMIC_DB\")\n",
    "AMDS_DB = os.getenv(\"AMDS_DB\")\n",
    "EICU_DB = os.getenv(\"EICU_DB\")"
   ]
  },
  {
   "cell_type": "code",
   "execution_count": 2,
   "metadata": {},
   "outputs": [],
   "source": [
    "mimic_config = SourceConfig(\n",
    "    f\"postgresql+psycopg://{POSTGRES_USER}:{POSTGRES_PASSWORD}@{POSTGRES_HOST}/{MIMIC_DB}\",\n",
    "    limit=500,\n",
    "    chunksize=100\n",
    ")"
   ]
  },
  {
   "cell_type": "code",
   "execution_count": 3,
   "metadata": {},
   "outputs": [],
   "source": [
    "from icu_pipeline.sink.pandas import PandasSink\n",
    "\n",
    "pipeline = Pipeline(\n",
    "    source_configs={\n",
    "        DataSource.MIMICIV: mimic_config,\n",
    "    },\n",
    "    sink_mapper=PandasSink(),\n",
    ")\n",
    "\n",
    "concepts = [\"HeartRate\", \"SystolicBloodPressure\"] # \"HeartRate\", \"SystolicBloodPressure\""
   ]
  },
  {
   "cell_type": "code",
   "execution_count": 4,
   "metadata": {},
   "outputs": [
    {
     "name": "stdout",
     "output_type": "stream",
     "text": [
      "Pipe Class: InMemoryPipe\n",
      "Node Class: InMemoryNode\n"
     ]
    }
   ],
   "source": [
    "result = pipeline.transform(concepts)\n",
    "print(pipeline._graph)"
   ]
  },
  {
   "cell_type": "code",
   "execution_count": 5,
   "metadata": {},
   "outputs": [
    {
     "name": "stderr",
     "output_type": "stream",
     "text": [
      "\u001b[36mDEBUG:psycopg.pq:couldn't import psycopg 'c' implementation: No module named 'psycopg_c'\u001b[0m\n",
      "\u001b[36mDEBUG:root:Added 0 new dependencies to the Graph.\u001b[0m\n"
     ]
    },
    {
     "name": "stdout",
     "output_type": "stream",
     "text": [
      "Pipe Class: InMemoryPipe\n",
      "Node Class: InMemoryNode\n",
      "Concept(1,HeartRate)-->FrequencyConverter(3)-->PandasSink(0)\n",
      "Concept(2,SystolicBloodPressure)-->PressureConverter(4)-->PandasSink(0)\n"
     ]
    },
    {
     "name": "stderr",
     "output_type": "stream",
     "text": [
      "\u001b[36mDEBUG:root:\n",
      "            SELECT DISTINCT subject_id\n",
      "            FROM \"mimiciv_icu\".\"icustays\"\n",
      "            LIMIT 500\n",
      "        \u001b[0m\n",
      "\u001b[36mDEBUG:root:\n",
      "            SELECT \"subject_id\" AS \"patient_id\", \"charttime\" AS \"timestamp\", \"valuenum\" AS \"value\", \"valueuom\" AS \"unit\"\n",
      "            FROM \"mimiciv_icu\".\"chartevents\"\n",
      "            WHERE \"itemid\" = '220045'\n",
      "            AND subject_id IN (10000032,10000980,10001217,10001725,10001884,10002013,10002155,10002348,10002428,10002430,10002443,10002495,10002760,10002930,10003019,10003046,10003400,10003502,10004113,10004235,10004401,10004422,10004457,10004606,10004720,10004733,10004764,10005123,10005348,10005606,10005817,10005866,10005909,10006053,10006131,10006277,10006580,10006821,10007058,10007795,10007818,10007920,10007928,10008077,10008100,10008287,10008454,10008924,10009035,10009049,10009628,10009686,10010058,10010471,10010867,10011189,10011365,10011398,10011427,10011668,10011938,10012055,10012206,10012292,10012438,10012476,10012552,10012853,10013015,10013049,10013310,10013419,10013569,10013643,10014078,10014136,10014179,10014354,10014610,10014729,10015272,10015834,10015860,10015931,10016150,10016742,10016810,10016859,10017285,10017308,10017437,10017492,10017531,10017679,10017851,10018081,10018328,10018423,10018501,10018845)\n",
      "        \u001b[0m\n",
      "\u001b[36mDEBUG:root:\n",
      "            SELECT \"subject_id\" AS \"patient_id\", \"charttime\" AS \"timestamp\", \"valuenum\" AS \"value\", \"valueuom\" AS \"unit\"\n",
      "            FROM \"mimiciv_icu\".\"chartevents\"\n",
      "            WHERE \"itemid\" = any('{220050,220179}')\n",
      "            AND subject_id IN (10000032,10000980,10001217,10001725,10001884,10002013,10002155,10002348,10002428,10002430,10002443,10002495,10002760,10002930,10003019,10003046,10003400,10003502,10004113,10004235,10004401,10004422,10004457,10004606,10004720,10004733,10004764,10005123,10005348,10005606,10005817,10005866,10005909,10006053,10006131,10006277,10006580,10006821,10007058,10007795,10007818,10007920,10007928,10008077,10008100,10008287,10008454,10008924,10009035,10009049,10009628,10009686,10010058,10010471,10010867,10011189,10011365,10011398,10011427,10011668,10011938,10012055,10012206,10012292,10012438,10012476,10012552,10012853,10013015,10013049,10013310,10013419,10013569,10013643,10014078,10014136,10014179,10014354,10014610,10014729,10015272,10015834,10015860,10015931,10016150,10016742,10016810,10016859,10017285,10017308,10017437,10017492,10017531,10017679,10017851,10018081,10018328,10018423,10018501,10018845)\n",
      "        \u001b[0m\n",
      "\u001b[36mDEBUG:root:\n",
      "            SELECT \"subject_id\" AS \"patient_id\", \"charttime\" AS \"timestamp\", \"valuenum\" AS \"value\", \"valueuom\" AS \"unit\"\n",
      "            FROM \"mimiciv_icu\".\"chartevents\"\n",
      "            WHERE \"itemid\" = '220045'\n",
      "            AND subject_id IN (10018862,10018928,10019003,10019172,10019350,10019385,10019568,10019607,10019777,10019917,10019957,10019992,10020187,10020306,10020640,10020740,10020786,10020852,10020944,10021118,10021179,10021312,10021487,10021666,10021927,10021938,10022017,10022041,10022281,10022429,10022584,10022620,10022862,10022880,10023117,10023239,10023404,10023486,10023708,10023771,10023994,10024043,10024331,10024913,10024982,10025463,10025612,10025647,10026161,10026255,10026354,10026406,10026868,10027445,10027602,10027704,10027722,10027730,10028930,10029057,10029074,10029224,10029291,10029484,10029514,10029874,10030163,10030579,10030682,10030746,10030753,10031316,10031358,10031404,10031757,10032176,10032381,10032409,10032725,10033786,10034031,10034317,10034553,10035168,10035185,10035631,10035747,10035787,10035817,10036086,10036156,10037483,10037542,10037861,10037928,10037975,10038081,10038119,10038332,10038688)\n",
      "        \u001b[0m\n",
      "\u001b[36mDEBUG:root:\n",
      "            SELECT \"subject_id\" AS \"patient_id\", \"charttime\" AS \"timestamp\", \"valuenum\" AS \"value\", \"valueuom\" AS \"unit\"\n",
      "            FROM \"mimiciv_icu\".\"chartevents\"\n",
      "            WHERE \"itemid\" = any('{220050,220179}')\n",
      "            AND subject_id IN (10018862,10018928,10019003,10019172,10019350,10019385,10019568,10019607,10019777,10019917,10019957,10019992,10020187,10020306,10020640,10020740,10020786,10020852,10020944,10021118,10021179,10021312,10021487,10021666,10021927,10021938,10022017,10022041,10022281,10022429,10022584,10022620,10022862,10022880,10023117,10023239,10023404,10023486,10023708,10023771,10023994,10024043,10024331,10024913,10024982,10025463,10025612,10025647,10026161,10026255,10026354,10026406,10026868,10027445,10027602,10027704,10027722,10027730,10028930,10029057,10029074,10029224,10029291,10029484,10029514,10029874,10030163,10030579,10030682,10030746,10030753,10031316,10031358,10031404,10031757,10032176,10032381,10032409,10032725,10033786,10034031,10034317,10034553,10035168,10035185,10035631,10035747,10035787,10035817,10036086,10036156,10037483,10037542,10037861,10037928,10037975,10038081,10038119,10038332,10038688)\n",
      "        \u001b[0m\n",
      "\u001b[36mDEBUG:root:\n",
      "            SELECT \"subject_id\" AS \"patient_id\", \"charttime\" AS \"timestamp\", \"valuenum\" AS \"value\", \"valueuom\" AS \"unit\"\n",
      "            FROM \"mimiciv_icu\".\"chartevents\"\n",
      "            WHERE \"itemid\" = '220045'\n",
      "            AND subject_id IN (10038852,10038933,10038992,10038999,10039396,10039688,10039708,10039831,10039997,10040025,10040721,10040952,10040984,10041127,10041599,10041668,10041690,10041790,10041894,10042377,10042769,10043122,10044916,10045670,10045785,10045929,10045960,10046166,10046234,10046436,10046679,10046724,10047172,10047484,10047587,10047599,10047682,10047766,10047824,10047994,10048001,10048105,10048244,10048262,10048723,10048899,10048962,10049041,10049334,10049642,10049746,10049833,10049941,10050445,10050755,10051043,10051074,10051872,10051990,10052181,10052938,10053207,10053782,10053810,10053854,10054208,10054277,10054464,10054716,10055235,10055344,10055361,10055694,10055729,10055828,10055939,10056037,10056200,10056223,10056841,10057070,10057218,10057482,10057731,10058437,10058575,10058868,10058974,10059217,10059406,10059952,10060142,10060531,10061303,10061633,10062020,10062522,10062597,10062617,10063488)\n",
      "        \u001b[0m\n",
      "\u001b[36mDEBUG:root:\n",
      "            SELECT \"subject_id\" AS \"patient_id\", \"charttime\" AS \"timestamp\", \"valuenum\" AS \"value\", \"valueuom\" AS \"unit\"\n",
      "            FROM \"mimiciv_icu\".\"chartevents\"\n",
      "            WHERE \"itemid\" = any('{220050,220179}')\n",
      "            AND subject_id IN (10038852,10038933,10038992,10038999,10039396,10039688,10039708,10039831,10039997,10040025,10040721,10040952,10040984,10041127,10041599,10041668,10041690,10041790,10041894,10042377,10042769,10043122,10044916,10045670,10045785,10045929,10045960,10046166,10046234,10046436,10046679,10046724,10047172,10047484,10047587,10047599,10047682,10047766,10047824,10047994,10048001,10048105,10048244,10048262,10048723,10048899,10048962,10049041,10049334,10049642,10049746,10049833,10049941,10050445,10050755,10051043,10051074,10051872,10051990,10052181,10052938,10053207,10053782,10053810,10053854,10054208,10054277,10054464,10054716,10055235,10055344,10055361,10055694,10055729,10055828,10055939,10056037,10056200,10056223,10056841,10057070,10057218,10057482,10057731,10058437,10058575,10058868,10058974,10059217,10059406,10059952,10060142,10060531,10061303,10061633,10062020,10062522,10062597,10062617,10063488)\n",
      "        \u001b[0m\n",
      "\u001b[36mDEBUG:root:\n",
      "            SELECT \"subject_id\" AS \"patient_id\", \"charttime\" AS \"timestamp\", \"valuenum\" AS \"value\", \"valueuom\" AS \"unit\"\n",
      "            FROM \"mimiciv_icu\".\"chartevents\"\n",
      "            WHERE \"itemid\" = '220045'\n",
      "            AND subject_id IN (10063534,10063848,10063856,10063991,10064049,10064390,10064636,10064854,10065024,10065103,10065354,10065361,10065530,10065767,10066209,10066489,10066894,10067059,10067195,10067389,10067480,10067573,10067921,10068304,10069423,10069864,10069992,10070201,10070311,10070614,10070626,10070928,10070932,10071167,10071302,10071332,10071435,10071611,10071869,10072153,10072239,10073239,10073847,10074323,10074474,10074556,10074611,10074869,10074908,10075035,10075506,10075900,10075925,10075960,10076061,10076263,10076342,10076492,10076506,10076526,10076543,10076958,10077305,10077376,10077499,10077619,10078008,10078072,10078115,10078297,10078309,10078723,10078805,10078933,10079545,10079700,10080695,10080928,10080961,10081273,10081525,10081559,10081794,10081828,10081883,10082014,10082543,10082560,10082662,10082986,10083062,10083072,10083101,10083424,10083576,10083814,10084069,10084262,10084454,10084586)\n",
      "        \u001b[0m\n",
      "\u001b[36mDEBUG:root:\n",
      "            SELECT \"subject_id\" AS \"patient_id\", \"charttime\" AS \"timestamp\", \"valuenum\" AS \"value\", \"valueuom\" AS \"unit\"\n",
      "            FROM \"mimiciv_icu\".\"chartevents\"\n",
      "            WHERE \"itemid\" = any('{220050,220179}')\n",
      "            AND subject_id IN (10063534,10063848,10063856,10063991,10064049,10064390,10064636,10064854,10065024,10065103,10065354,10065361,10065530,10065767,10066209,10066489,10066894,10067059,10067195,10067389,10067480,10067573,10067921,10068304,10069423,10069864,10069992,10070201,10070311,10070614,10070626,10070928,10070932,10071167,10071302,10071332,10071435,10071611,10071869,10072153,10072239,10073239,10073847,10074323,10074474,10074556,10074611,10074869,10074908,10075035,10075506,10075900,10075925,10075960,10076061,10076263,10076342,10076492,10076506,10076526,10076543,10076958,10077305,10077376,10077499,10077619,10078008,10078072,10078115,10078297,10078309,10078723,10078805,10078933,10079545,10079700,10080695,10080928,10080961,10081273,10081525,10081559,10081794,10081828,10081883,10082014,10082543,10082560,10082662,10082986,10083062,10083072,10083101,10083424,10083576,10083814,10084069,10084262,10084454,10084586)\n",
      "        \u001b[0m\n",
      "\u001b[36mDEBUG:root:\n",
      "            SELECT \"subject_id\" AS \"patient_id\", \"charttime\" AS \"timestamp\", \"valuenum\" AS \"value\", \"valueuom\" AS \"unit\"\n",
      "            FROM \"mimiciv_icu\".\"chartevents\"\n",
      "            WHERE \"itemid\" = '220045'\n",
      "            AND subject_id IN (10085120,10085667,10085784,10086022,10086182,10086611,10087025,10087623,10087943,10088198,10088776,10088914,10088966,10089085,10089119,10089244,10089618,10090451,10090454,10090828,10091141,10091327,10091724,10091871,10092020,10092171,10092175,10092227,10092572,10093120,10093425,10093718,10093791,10094629,10094679,10094805,10094811,10094971,10095570,10095655,10095681,10095746,10096046,10096079,10096175,10096380,10096391,10096420,10096969,10097232,10097563,10097612,10097659,10097898,10098215,10098428,10098627,10098875,10098993,10099032,10099269,10099480,10099497,10099592,10099869,10100037,10100435,10100976,10101070,10101116,10101170,10101360,10102822,10102878,10103224,10103457,10103536,10103748,10103763,10103795,10104012,10104229,10104289,10104308,10104335,10104450,10104549,10104674,10104678,10104730,10104732,10105456,10105605,10106165,10106244,10106899,10107044,10107132,10107262,10107317)\n",
      "        \u001b[0m\n",
      "\u001b[36mDEBUG:root:\n",
      "            SELECT \"subject_id\" AS \"patient_id\", \"charttime\" AS \"timestamp\", \"valuenum\" AS \"value\", \"valueuom\" AS \"unit\"\n",
      "            FROM \"mimiciv_icu\".\"chartevents\"\n",
      "            WHERE \"itemid\" = any('{220050,220179}')\n",
      "            AND subject_id IN (10085120,10085667,10085784,10086022,10086182,10086611,10087025,10087623,10087943,10088198,10088776,10088914,10088966,10089085,10089119,10089244,10089618,10090451,10090454,10090828,10091141,10091327,10091724,10091871,10092020,10092171,10092175,10092227,10092572,10093120,10093425,10093718,10093791,10094629,10094679,10094805,10094811,10094971,10095570,10095655,10095681,10095746,10096046,10096079,10096175,10096380,10096391,10096420,10096969,10097232,10097563,10097612,10097659,10097898,10098215,10098428,10098627,10098875,10098993,10099032,10099269,10099480,10099497,10099592,10099869,10100037,10100435,10100976,10101070,10101116,10101170,10101360,10102822,10102878,10103224,10103457,10103536,10103748,10103763,10103795,10104012,10104229,10104289,10104308,10104335,10104450,10104549,10104674,10104678,10104730,10104732,10105456,10105605,10106165,10106244,10106899,10107044,10107132,10107262,10107317)\n",
      "        \u001b[0m\n"
     ]
    },
    {
     "data": {
      "text/plain": [
       "{'HeartRate':                                           subject       effective_date_time  \\\n",
       " 0      {'reference': '10000032', 'type': 'mimic'} 2180-07-23 22:00:00+00:00   \n",
       " 1      {'reference': '10000032', 'type': 'mimic'} 2180-07-23 19:00:00+00:00   \n",
       " 2      {'reference': '10000032', 'type': 'mimic'} 2180-07-23 20:00:00+00:00   \n",
       " 3      {'reference': '10000032', 'type': 'mimic'} 2180-07-23 21:00:00+00:00   \n",
       " 4      {'reference': '10000032', 'type': 'mimic'} 2180-07-23 14:12:00+00:00   \n",
       " ...                                           ...                       ...   \n",
       " 11769  {'reference': '10107317', 'type': 'mimic'} 2153-04-22 13:00:00+00:00   \n",
       " 11770  {'reference': '10107317', 'type': 'mimic'} 2153-04-22 14:00:00+00:00   \n",
       " 11771  {'reference': '10107317', 'type': 'mimic'} 2153-04-22 15:00:00+00:00   \n",
       " 11772  {'reference': '10107317', 'type': 'mimic'} 2153-04-22 16:00:00+00:00   \n",
       " 11773  {'reference': '10107317', 'type': 'mimic'} 2153-04-22 17:00:00+00:00   \n",
       " \n",
       "                         value_quantity  \\\n",
       " 0       {'value': 94.0, 'unit': 'bpm'}   \n",
       " 1       {'value': 97.0, 'unit': 'bpm'}   \n",
       " 2      {'value': 100.0, 'unit': 'bpm'}   \n",
       " 3       {'value': 94.0, 'unit': 'bpm'}   \n",
       " 4       {'value': 91.0, 'unit': 'bpm'}   \n",
       " ...                                ...   \n",
       " 11769   {'value': 86.0, 'unit': 'bpm'}   \n",
       " 11770   {'value': 99.0, 'unit': 'bpm'}   \n",
       " 11771   {'value': 80.0, 'unit': 'bpm'}   \n",
       " 11772   {'value': 81.0, 'unit': 'bpm'}   \n",
       " 11773   {'value': 82.0, 'unit': 'bpm'}   \n",
       " \n",
       "                                                     code  \n",
       " 0      {'coding': {'code': 'HeartRate', 'system': 'sn...  \n",
       " 1      {'coding': {'code': 'HeartRate', 'system': 'sn...  \n",
       " 2      {'coding': {'code': 'HeartRate', 'system': 'sn...  \n",
       " 3      {'coding': {'code': 'HeartRate', 'system': 'sn...  \n",
       " 4      {'coding': {'code': 'HeartRate', 'system': 'sn...  \n",
       " ...                                                  ...  \n",
       " 11769  {'coding': {'code': 'HeartRate', 'system': 'sn...  \n",
       " 11770  {'coding': {'code': 'HeartRate', 'system': 'sn...  \n",
       " 11771  {'coding': {'code': 'HeartRate', 'system': 'sn...  \n",
       " 11772  {'coding': {'code': 'HeartRate', 'system': 'sn...  \n",
       " 11773  {'coding': {'code': 'HeartRate', 'system': 'sn...  \n",
       " \n",
       " [62132 rows x 4 columns],\n",
       " 'SystolicBloodPressure':                                           subject       effective_date_time  \\\n",
       " 0      {'reference': '10000032', 'type': 'mimic'} 2180-07-23 21:01:00+00:00   \n",
       " 1      {'reference': '10000032', 'type': 'mimic'} 2180-07-23 22:00:00+00:00   \n",
       " 2      {'reference': '10000032', 'type': 'mimic'} 2180-07-23 19:00:00+00:00   \n",
       " 3      {'reference': '10000032', 'type': 'mimic'} 2180-07-23 20:00:00+00:00   \n",
       " 4      {'reference': '10000032', 'type': 'mimic'} 2180-07-23 14:11:00+00:00   \n",
       " ...                                           ...                       ...   \n",
       " 11823  {'reference': '10107317', 'type': 'mimic'} 2153-04-22 13:00:00+00:00   \n",
       " 11824  {'reference': '10107317', 'type': 'mimic'} 2153-04-22 14:00:00+00:00   \n",
       " 11825  {'reference': '10107317', 'type': 'mimic'} 2153-04-22 15:00:00+00:00   \n",
       " 11826  {'reference': '10107317', 'type': 'mimic'} 2153-04-22 16:00:00+00:00   \n",
       " 11827  {'reference': '10107317', 'type': 'mimic'} 2153-04-22 17:35:00+00:00   \n",
       " \n",
       "                          value_quantity  \\\n",
       " 0       {'value': 82.0, 'unit': 'mmHg'}   \n",
       " 1       {'value': 85.0, 'unit': 'mmHg'}   \n",
       " 2       {'value': 93.0, 'unit': 'mmHg'}   \n",
       " 3       {'value': 90.0, 'unit': 'mmHg'}   \n",
       " 4       {'value': 84.0, 'unit': 'mmHg'}   \n",
       " ...                                 ...   \n",
       " 11823  {'value': 107.0, 'unit': 'mmHg'}   \n",
       " 11824  {'value': 115.0, 'unit': 'mmHg'}   \n",
       " 11825   {'value': 94.0, 'unit': 'mmHg'}   \n",
       " 11826  {'value': 107.0, 'unit': 'mmHg'}   \n",
       " 11827  {'value': 103.0, 'unit': 'mmHg'}   \n",
       " \n",
       "                                                     code  \n",
       " 0      {'coding': {'code': 'SystolicBloodPressure', '...  \n",
       " 1      {'coding': {'code': 'SystolicBloodPressure', '...  \n",
       " 2      {'coding': {'code': 'SystolicBloodPressure', '...  \n",
       " 3      {'coding': {'code': 'SystolicBloodPressure', '...  \n",
       " 4      {'coding': {'code': 'SystolicBloodPressure', '...  \n",
       " ...                                                  ...  \n",
       " 11823  {'coding': {'code': 'SystolicBloodPressure', '...  \n",
       " 11824  {'coding': {'code': 'SystolicBloodPressure', '...  \n",
       " 11825  {'coding': {'code': 'SystolicBloodPressure', '...  \n",
       " 11826  {'coding': {'code': 'SystolicBloodPressure', '...  \n",
       " 11827  {'coding': {'code': 'SystolicBloodPressure', '...  \n",
       " \n",
       " [61362 rows x 4 columns]}"
      ]
     },
     "execution_count": 5,
     "metadata": {},
     "output_type": "execute_result"
    }
   ],
   "source": [
    "result = [{\n",
    "    k: v for k,v in c.items()\n",
    "} for c in result]\n",
    "out = {}\n",
    "for c in pipeline._sink_mapper._sources:\n",
    "    out[c] = pd.concat([v[c] for v in result])\n",
    "out"
   ]
  },
  {
   "cell_type": "code",
   "execution_count": 6,
   "metadata": {},
   "outputs": [
    {
     "name": "stdout",
     "output_type": "stream",
     "text": [
      "Pipe Class: InMemoryPipe\n",
      "Node Class: InMemoryNode\n",
      "Concept(1,HeartRate)-->FrequencyConverter(3)-->PandasSink(0)\n",
      "Concept(2,SystolicBloodPressure)-->PressureConverter(4)-->PandasSink(0)\n"
     ]
    }
   ],
   "source": [
    "print(pipeline._graph)"
   ]
  },
  {
   "cell_type": "code",
   "execution_count": 7,
   "metadata": {},
   "outputs": [
    {
     "data": {
      "text/plain": [
       "{'HeartRate': <icu_pipeline.graph.in_memory.InMemoryPipe at 0x7513cc09e3c0>,\n",
       " 'SystolicBloodPressure': <icu_pipeline.graph.in_memory.InMemoryPipe at 0x7513cc09e120>}"
      ]
     },
     "execution_count": 7,
     "metadata": {},
     "output_type": "execute_result"
    }
   ],
   "source": [
    "pipeline._sink_mapper._sources"
   ]
  },
  {
   "cell_type": "code",
   "execution_count": 8,
   "metadata": {},
   "outputs": [
    {
     "data": {
      "text/html": [
       "<div>\n",
       "<style scoped>\n",
       "    .dataframe tbody tr th:only-of-type {\n",
       "        vertical-align: middle;\n",
       "    }\n",
       "\n",
       "    .dataframe tbody tr th {\n",
       "        vertical-align: top;\n",
       "    }\n",
       "\n",
       "    .dataframe thead th {\n",
       "        text-align: right;\n",
       "    }\n",
       "</style>\n",
       "<table border=\"1\" class=\"dataframe\">\n",
       "  <thead>\n",
       "    <tr style=\"text-align: right;\">\n",
       "      <th></th>\n",
       "      <th>subject</th>\n",
       "      <th>effective_date_time</th>\n",
       "      <th>value_quantity</th>\n",
       "      <th>code</th>\n",
       "    </tr>\n",
       "  </thead>\n",
       "  <tbody>\n",
       "    <tr>\n",
       "      <th>0</th>\n",
       "      <td>{'reference': '10000032', 'type': 'mimic'}</td>\n",
       "      <td>2180-07-23 22:00:00+00:00</td>\n",
       "      <td>{'value': 94.0, 'unit': 'bpm'}</td>\n",
       "      <td>{'coding': {'code': 'HeartRate', 'system': 'sn...</td>\n",
       "    </tr>\n",
       "    <tr>\n",
       "      <th>1</th>\n",
       "      <td>{'reference': '10000032', 'type': 'mimic'}</td>\n",
       "      <td>2180-07-23 19:00:00+00:00</td>\n",
       "      <td>{'value': 97.0, 'unit': 'bpm'}</td>\n",
       "      <td>{'coding': {'code': 'HeartRate', 'system': 'sn...</td>\n",
       "    </tr>\n",
       "    <tr>\n",
       "      <th>2</th>\n",
       "      <td>{'reference': '10000032', 'type': 'mimic'}</td>\n",
       "      <td>2180-07-23 20:00:00+00:00</td>\n",
       "      <td>{'value': 100.0, 'unit': 'bpm'}</td>\n",
       "      <td>{'coding': {'code': 'HeartRate', 'system': 'sn...</td>\n",
       "    </tr>\n",
       "    <tr>\n",
       "      <th>3</th>\n",
       "      <td>{'reference': '10000032', 'type': 'mimic'}</td>\n",
       "      <td>2180-07-23 21:00:00+00:00</td>\n",
       "      <td>{'value': 94.0, 'unit': 'bpm'}</td>\n",
       "      <td>{'coding': {'code': 'HeartRate', 'system': 'sn...</td>\n",
       "    </tr>\n",
       "    <tr>\n",
       "      <th>4</th>\n",
       "      <td>{'reference': '10000032', 'type': 'mimic'}</td>\n",
       "      <td>2180-07-23 14:12:00+00:00</td>\n",
       "      <td>{'value': 91.0, 'unit': 'bpm'}</td>\n",
       "      <td>{'coding': {'code': 'HeartRate', 'system': 'sn...</td>\n",
       "    </tr>\n",
       "    <tr>\n",
       "      <th>...</th>\n",
       "      <td>...</td>\n",
       "      <td>...</td>\n",
       "      <td>...</td>\n",
       "      <td>...</td>\n",
       "    </tr>\n",
       "    <tr>\n",
       "      <th>11769</th>\n",
       "      <td>{'reference': '10107317', 'type': 'mimic'}</td>\n",
       "      <td>2153-04-22 13:00:00+00:00</td>\n",
       "      <td>{'value': 86.0, 'unit': 'bpm'}</td>\n",
       "      <td>{'coding': {'code': 'HeartRate', 'system': 'sn...</td>\n",
       "    </tr>\n",
       "    <tr>\n",
       "      <th>11770</th>\n",
       "      <td>{'reference': '10107317', 'type': 'mimic'}</td>\n",
       "      <td>2153-04-22 14:00:00+00:00</td>\n",
       "      <td>{'value': 99.0, 'unit': 'bpm'}</td>\n",
       "      <td>{'coding': {'code': 'HeartRate', 'system': 'sn...</td>\n",
       "    </tr>\n",
       "    <tr>\n",
       "      <th>11771</th>\n",
       "      <td>{'reference': '10107317', 'type': 'mimic'}</td>\n",
       "      <td>2153-04-22 15:00:00+00:00</td>\n",
       "      <td>{'value': 80.0, 'unit': 'bpm'}</td>\n",
       "      <td>{'coding': {'code': 'HeartRate', 'system': 'sn...</td>\n",
       "    </tr>\n",
       "    <tr>\n",
       "      <th>11772</th>\n",
       "      <td>{'reference': '10107317', 'type': 'mimic'}</td>\n",
       "      <td>2153-04-22 16:00:00+00:00</td>\n",
       "      <td>{'value': 81.0, 'unit': 'bpm'}</td>\n",
       "      <td>{'coding': {'code': 'HeartRate', 'system': 'sn...</td>\n",
       "    </tr>\n",
       "    <tr>\n",
       "      <th>11773</th>\n",
       "      <td>{'reference': '10107317', 'type': 'mimic'}</td>\n",
       "      <td>2153-04-22 17:00:00+00:00</td>\n",
       "      <td>{'value': 82.0, 'unit': 'bpm'}</td>\n",
       "      <td>{'coding': {'code': 'HeartRate', 'system': 'sn...</td>\n",
       "    </tr>\n",
       "  </tbody>\n",
       "</table>\n",
       "<p>62132 rows × 4 columns</p>\n",
       "</div>"
      ],
      "text/plain": [
       "                                          subject       effective_date_time  \\\n",
       "0      {'reference': '10000032', 'type': 'mimic'} 2180-07-23 22:00:00+00:00   \n",
       "1      {'reference': '10000032', 'type': 'mimic'} 2180-07-23 19:00:00+00:00   \n",
       "2      {'reference': '10000032', 'type': 'mimic'} 2180-07-23 20:00:00+00:00   \n",
       "3      {'reference': '10000032', 'type': 'mimic'} 2180-07-23 21:00:00+00:00   \n",
       "4      {'reference': '10000032', 'type': 'mimic'} 2180-07-23 14:12:00+00:00   \n",
       "...                                           ...                       ...   \n",
       "11769  {'reference': '10107317', 'type': 'mimic'} 2153-04-22 13:00:00+00:00   \n",
       "11770  {'reference': '10107317', 'type': 'mimic'} 2153-04-22 14:00:00+00:00   \n",
       "11771  {'reference': '10107317', 'type': 'mimic'} 2153-04-22 15:00:00+00:00   \n",
       "11772  {'reference': '10107317', 'type': 'mimic'} 2153-04-22 16:00:00+00:00   \n",
       "11773  {'reference': '10107317', 'type': 'mimic'} 2153-04-22 17:00:00+00:00   \n",
       "\n",
       "                        value_quantity  \\\n",
       "0       {'value': 94.0, 'unit': 'bpm'}   \n",
       "1       {'value': 97.0, 'unit': 'bpm'}   \n",
       "2      {'value': 100.0, 'unit': 'bpm'}   \n",
       "3       {'value': 94.0, 'unit': 'bpm'}   \n",
       "4       {'value': 91.0, 'unit': 'bpm'}   \n",
       "...                                ...   \n",
       "11769   {'value': 86.0, 'unit': 'bpm'}   \n",
       "11770   {'value': 99.0, 'unit': 'bpm'}   \n",
       "11771   {'value': 80.0, 'unit': 'bpm'}   \n",
       "11772   {'value': 81.0, 'unit': 'bpm'}   \n",
       "11773   {'value': 82.0, 'unit': 'bpm'}   \n",
       "\n",
       "                                                    code  \n",
       "0      {'coding': {'code': 'HeartRate', 'system': 'sn...  \n",
       "1      {'coding': {'code': 'HeartRate', 'system': 'sn...  \n",
       "2      {'coding': {'code': 'HeartRate', 'system': 'sn...  \n",
       "3      {'coding': {'code': 'HeartRate', 'system': 'sn...  \n",
       "4      {'coding': {'code': 'HeartRate', 'system': 'sn...  \n",
       "...                                                  ...  \n",
       "11769  {'coding': {'code': 'HeartRate', 'system': 'sn...  \n",
       "11770  {'coding': {'code': 'HeartRate', 'system': 'sn...  \n",
       "11771  {'coding': {'code': 'HeartRate', 'system': 'sn...  \n",
       "11772  {'coding': {'code': 'HeartRate', 'system': 'sn...  \n",
       "11773  {'coding': {'code': 'HeartRate', 'system': 'sn...  \n",
       "\n",
       "[62132 rows x 4 columns]"
      ]
     },
     "execution_count": 8,
     "metadata": {},
     "output_type": "execute_result"
    }
   ],
   "source": [
    "out[\"HeartRate\"]"
   ]
  },
  {
   "cell_type": "code",
   "execution_count": 9,
   "metadata": {},
   "outputs": [
    {
     "name": "stdout",
     "output_type": "stream",
     "text": [
      "Pipe Class: InMemoryPipe\n",
      "Node Class: InMemoryNode\n",
      "InMemoryNode(5)-->InMemoryNode(6)-->InMemoryNode(7)\n",
      "InMemoryNode(8)-->InMemoryNode(7)\n"
     ]
    },
    {
     "ename": "AssertionError",
     "evalue": "Graph has Circular dependencies!",
     "output_type": "error",
     "traceback": [
      "\u001b[0;31m---------------------------------------------------------------------------\u001b[0m",
      "\u001b[0;31mAssertionError\u001b[0m                            Traceback (most recent call last)",
      "Cell \u001b[0;32mIn[9], line 13\u001b[0m\n\u001b[1;32m     11\u001b[0m g\u001b[38;5;241m.\u001b[39maddPipe(d,c)\n\u001b[1;32m     12\u001b[0m \u001b[38;5;28mprint\u001b[39m(g)\n\u001b[0;32m---> 13\u001b[0m \u001b[43mg\u001b[49m\u001b[38;5;241;43m.\u001b[39;49m\u001b[43maddPipe\u001b[49m\u001b[43m(\u001b[49m\u001b[43mb\u001b[49m\u001b[43m,\u001b[49m\u001b[43ma\u001b[49m\u001b[43m)\u001b[49m\n",
      "File \u001b[0;32m~/IMI/ICU/oicu-extractor-2/icu_pipeline/graph/base.py:88\u001b[0m, in \u001b[0;36mGraph.addPipe\u001b[0;34m(self, source, sink)\u001b[0m\n\u001b[1;32m     85\u001b[0m source\u001b[38;5;241m.\u001b[39m_sinks[source\u001b[38;5;241m.\u001b[39m_concept_id] \u001b[38;5;241m=\u001b[39m new_pipe\n\u001b[1;32m     86\u001b[0m sink\u001b[38;5;241m.\u001b[39m_sources[source\u001b[38;5;241m.\u001b[39m_concept_id] \u001b[38;5;241m=\u001b[39m new_pipe\n\u001b[0;32m---> 88\u001b[0m \u001b[38;5;28;43mself\u001b[39;49m\u001b[38;5;241;43m.\u001b[39;49m\u001b[43mcheck_circularity\u001b[49m\u001b[43m(\u001b[49m\u001b[43m)\u001b[49m\n",
      "File \u001b[0;32m~/IMI/ICU/oicu-extractor-2/icu_pipeline/graph/base.py:118\u001b[0m, in \u001b[0;36mGraph.check_circularity\u001b[0;34m(self)\u001b[0m\n\u001b[1;32m    115\u001b[0m     \u001b[38;5;28;01mif\u001b[39;00m _is_circular(next_sink, []):\n\u001b[1;32m    116\u001b[0m         result \u001b[38;5;241m=\u001b[39m \u001b[38;5;28;01mFalse\u001b[39;00m\n\u001b[0;32m--> 118\u001b[0m \u001b[38;5;28;01massert\u001b[39;00m result, \u001b[38;5;124m\"\u001b[39m\u001b[38;5;124mGraph has Circular dependencies!\u001b[39m\u001b[38;5;124m\"\u001b[39m\n",
      "\u001b[0;31mAssertionError\u001b[0m: Graph has Circular dependencies!"
     ]
    }
   ],
   "source": [
    "from icu_pipeline.graph import Node,Pipe\n",
    "from icu_pipeline.graph.base import Graph\n",
    "\n",
    "g = Graph()\n",
    "a = Node(\"1\")\n",
    "b = Node(\"2\")\n",
    "c = Node(\"3\")\n",
    "d = Node(\"4\")\n",
    "g.addPipe(a,b)\n",
    "g.addPipe(b,c)\n",
    "g.addPipe(d,c)\n",
    "print(g)\n",
    "g.addPipe(b,a)"
   ]
  }
 ],
 "metadata": {
  "kernelspec": {
   "display_name": "openicu",
   "language": "python",
   "name": "python3"
  },
  "language_info": {
   "codemirror_mode": {
    "name": "ipython",
    "version": 3
   },
   "file_extension": ".py",
   "mimetype": "text/x-python",
   "name": "python",
   "nbconvert_exporter": "python",
   "pygments_lexer": "ipython3",
   "version": "3.12.0"
  }
 },
 "nbformat": 4,
 "nbformat_minor": 2
}
